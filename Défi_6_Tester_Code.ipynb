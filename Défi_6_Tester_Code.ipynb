{
 "cells": [
  {
   "cell_type": "code",
   "execution_count": 1,
   "metadata": {},
   "outputs": [],
   "source": [
    "def factorial(n):\n",
    "  #Compte le facteur de n\n",
    "  if n<0:\n",
    "    raise ValueError('Valeur ngative en entrée')\n",
    "  result =1\n",
    "  for i in range (1, n + 1):\n",
    "    result *=1\n",
    "  return result"
   ]
  },
  {
   "cell_type": "code",
   "execution_count": 4,
   "metadata": {},
   "outputs": [
    {
     "ename": "ModuleNotFoundError",
     "evalue": "No module named 'factorial'",
     "output_type": "error",
     "traceback": [
      "\u001b[0;31m---------------------------------------------------------------------------\u001b[0m",
      "\u001b[0;31mModuleNotFoundError\u001b[0m                       Traceback (most recent call last)",
      "\u001b[1;32m/workspaces/essentiel-python-3069713/Défi_6_Tester_Code.ipynb Cellule 2\u001b[0m line \u001b[0;36m3\n\u001b[1;32m      <a href='vscode-notebook-cell://codespaces%2Bturbo-bassoon-jjjrrvvjq5r62qq7x/workspaces/essentiel-python-3069713/D%C3%A9fi_6_Tester_Code.ipynb#W1sdnNjb2RlLXJlbW90ZQ%3D%3D?line=0'>1</a>\u001b[0m \u001b[39m#import pytest\u001b[39;00m\n\u001b[1;32m      <a href='vscode-notebook-cell://codespaces%2Bturbo-bassoon-jjjrrvvjq5r62qq7x/workspaces/essentiel-python-3069713/D%C3%A9fi_6_Tester_Code.ipynb#W1sdnNjb2RlLXJlbW90ZQ%3D%3D?line=1'>2</a>\u001b[0m \u001b[39m#from factorial import factorial\u001b[39;00m\n\u001b[0;32m----> <a href='vscode-notebook-cell://codespaces%2Bturbo-bassoon-jjjrrvvjq5r62qq7x/workspaces/essentiel-python-3069713/D%C3%A9fi_6_Tester_Code.ipynb#W1sdnNjb2RlLXJlbW90ZQ%3D%3D?line=2'>3</a>\u001b[0m \u001b[39mimport\u001b[39;00m \u001b[39mfactorial\u001b[39;00m\n\u001b[1;32m      <a href='vscode-notebook-cell://codespaces%2Bturbo-bassoon-jjjrrvvjq5r62qq7x/workspaces/essentiel-python-3069713/D%C3%A9fi_6_Tester_Code.ipynb#W1sdnNjb2RlLXJlbW90ZQ%3D%3D?line=4'>5</a>\u001b[0m \u001b[39mdef\u001b[39;00m \u001b[39mtest_factorial\u001b[39m():\n\u001b[1;32m      <a href='vscode-notebook-cell://codespaces%2Bturbo-bassoon-jjjrrvvjq5r62qq7x/workspaces/essentiel-python-3069713/D%C3%A9fi_6_Tester_Code.ipynb#W1sdnNjb2RlLXJlbW90ZQ%3D%3D?line=5'>6</a>\u001b[0m   \u001b[39massert\u001b[39;00m factorial(\u001b[39m0\u001b[39m)\u001b[39m==\u001b[39m\u001b[39m1\u001b[39m\n",
      "\u001b[0;31mModuleNotFoundError\u001b[0m: No module named 'factorial'"
     ]
    }
   ],
   "source": [
    "#import pytest\n",
    "#from factorial import factorial\n",
    "import factorial\n",
    "\n",
    "def test_factorial():\n",
    "  assert factorial(0)==1\n",
    "  assert factorial(1)==1\n",
    "  assert factorial(2)==2"
   ]
  }
 ],
 "metadata": {
  "kernelspec": {
   "display_name": "Python 3",
   "language": "python",
   "name": "python3"
  },
  "language_info": {
   "codemirror_mode": {
    "name": "ipython",
    "version": 3
   },
   "file_extension": ".py",
   "mimetype": "text/x-python",
   "name": "python",
   "nbconvert_exporter": "python",
   "pygments_lexer": "ipython3",
   "version": "3.10.8"
  }
 },
 "nbformat": 4,
 "nbformat_minor": 2
}
