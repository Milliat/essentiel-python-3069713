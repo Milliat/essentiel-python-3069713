{
 "cells": [
  {
   "cell_type": "code",
   "execution_count": 7,
   "metadata": {},
   "outputs": [
    {
     "name": "stdout",
     "output_type": "stream",
     "text": [
      "Elody\n",
      "Mia\n"
     ]
    }
   ],
   "source": [
    "#___Avec des attributs d'instance\n",
    "from dataclasses import dataclass\n",
    "\n",
    "@dataclass\n",
    "class user:\n",
    "  first_name: str\n",
    "  last_name: str\n",
    "  #last_name: str = \"\"\n",
    "\n",
    "ElodyMia =user(first_name=\"Elody\", last_name=\"Mia\") \n",
    "#ElodyMia =user(first_name=\"Elody\")\n",
    "#print(repr(ElodyMia))\n",
    "print(ElodyMia.first_name)\n",
    "print(ElodyMia.last_name)\n",
    "\n",
    "#___Ancienne méthode moins pratique\n",
    "\n",
    "#class User:\n",
    "#  def __init__(self, first_name:str, last_name:str):\n",
    "#    self.first_name = first_name\n",
    "#    self.last_name = last_name"
   ]
  },
  {
   "cell_type": "code",
   "execution_count": 2,
   "metadata": {},
   "outputs": [
    {
     "name": "stdout",
     "output_type": "stream",
     "text": [
      "{'first_name': 'Elody', 'last_name': 'Mia'}\n",
      "{'__module__': '__main__', '__annotations__': {'first_name': <class 'str'>, 'last_name': <class 'str'>, 'c': typing.ClassVar[int]}, '__dict__': <attribute '__dict__' of 'user' objects>, '__weakref__': <attribute '__weakref__' of 'user' objects>, '__doc__': 'user(first_name: str, last_name: str)', '__dataclass_params__': _DataclassParams(init=True,repr=True,eq=True,order=False,unsafe_hash=False,frozen=False), '__dataclass_fields__': {'first_name': Field(name='first_name',type=<class 'str'>,default=<dataclasses._MISSING_TYPE object at 0x7f489cffde40>,default_factory=<dataclasses._MISSING_TYPE object at 0x7f489cffde40>,init=True,repr=True,hash=None,compare=True,metadata=mappingproxy({}),kw_only=False,_field_type=_FIELD), 'last_name': Field(name='last_name',type=<class 'str'>,default=<dataclasses._MISSING_TYPE object at 0x7f489cffde40>,default_factory=<dataclasses._MISSING_TYPE object at 0x7f489cffde40>,init=True,repr=True,hash=None,compare=True,metadata=mappingproxy({}),kw_only=False,_field_type=_FIELD), 'c': Field(name='c',type=typing.ClassVar[int],default=<dataclasses._MISSING_TYPE object at 0x7f489cffde40>,default_factory=<dataclasses._MISSING_TYPE object at 0x7f489cffde40>,init=True,repr=True,hash=None,compare=True,metadata=mappingproxy({}),kw_only=<dataclasses._MISSING_TYPE object at 0x7f489cffde40>,_field_type=_FIELD_CLASSVAR)}, '__init__': <function user.__init__ at 0x7f4899c06170>, '__repr__': <function user.__repr__ at 0x7f4899c060e0>, '__eq__': <function user.__eq__ at 0x7f4899c06560>, '__hash__': None, '__match_args__': ('first_name', 'last_name')}\n"
     ]
    }
   ],
   "source": [
    "#___Avec des attribut de classes\n",
    "from dataclasses import dataclass\n",
    "from typing import ClassVar\n",
    "\n",
    "@dataclass\n",
    "class user:\n",
    "  first_name: str\n",
    "  last_name: str\n",
    "  c: ClassVar[int]\n",
    "  #c: ClassVar[int]=\"\"\n",
    "\n",
    "ElodyMia = user(first_name=\"Elody\", last_name=\"Mia\")\n",
    "print(ElodyMia.__dict__)\n",
    "print(user.__dict__)"
   ]
  },
  {
   "cell_type": "code",
   "execution_count": 6,
   "metadata": {},
   "outputs": [
    {
     "name": "stdout",
     "output_type": "stream",
     "text": [
      "Elody Mia\n"
     ]
    }
   ],
   "source": [
    "#___Action après l'initialisation de l'instance => Post init\n",
    "#___Pratique quand il y a beaucoup d'attribut à déffinir avec les types\n",
    "\n",
    "from dataclasses import dataclass\n",
    "\n",
    "@dataclass\n",
    "class user:\n",
    "  first_name: str\n",
    "  last_name: str\n",
    "\n",
    "  def __post_init__(self):\n",
    "    self.full_name = f\"{self.first_name} {self.last_name}\"\n",
    "\n",
    "ElodyMia = user(first_name=\"Elody\", last_name=\"Mia\")\n",
    "print(ElodyMia.full_name)"
   ]
  }
 ],
 "metadata": {
  "kernelspec": {
   "display_name": "Python 3",
   "language": "python",
   "name": "python3"
  },
  "language_info": {
   "codemirror_mode": {
    "name": "ipython",
    "version": 3
   },
   "file_extension": ".py",
   "mimetype": "text/x-python",
   "name": "python",
   "nbconvert_exporter": "python",
   "pygments_lexer": "ipython3",
   "version": "3.10.8"
  }
 },
 "nbformat": 4,
 "nbformat_minor": 2
}
