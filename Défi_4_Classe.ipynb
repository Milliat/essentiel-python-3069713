{
 "cells": [
  {
   "cell_type": "code",
   "execution_count": 25,
   "metadata": {},
   "outputs": [],
   "source": [
    "class CompteBank:\n",
    "  def _init_(self, NumCompte, Nom, Solde):\n",
    "    self.NumCompte = NumCompte\n",
    "    self.Nom = Nom\n",
    "    self.Solde = Solde\n",
    "\n",
    "  def versement(self,argent):\n",
    "    self.solde =self.solde + argent\n",
    "\n",
    "  def retrait(self,argent):\n",
    "    if(self.solde < argent):\n",
    "      print(\"Le solde est inssufisant\")\n",
    "    else:\n",
    "      self.solde = self.solde - argent\n",
    "  def agio(self):\n",
    "    self.solde = self.solde*95/100\n",
    "  \n",
    "  def afficher(self):\n",
    "    print(\"N° compte :\", self.NumCompte)\n",
    "    print(\"Nom et Prénom :\", self.Nom)\n",
    "    print(\"Solde\", self.Solde,\"€\")\n"
   ]
  },
  {
   "cell_type": "code",
   "execution_count": 26,
   "metadata": {},
   "outputs": [
    {
     "ename": "TypeError",
     "evalue": "CompteBank() takes no arguments",
     "output_type": "error",
     "traceback": [
      "\u001b[0;31m---------------------------------------------------------------------------\u001b[0m",
      "\u001b[0;31mTypeError\u001b[0m                                 Traceback (most recent call last)",
      "\u001b[1;32m/workspaces/essentiel-python-3069713/Défi_5_Classe.ipynb Cellule 2\u001b[0m line \u001b[0;36m1\n\u001b[0;32m----> <a href='vscode-notebook-cell://codespaces%2Bturbo-bassoon-jjjrrvvjq5r62qq7x/workspaces/essentiel-python-3069713/D%C3%A9fi_5_Classe.ipynb#W3sdnNjb2RlLXJlbW90ZQ%3D%3D?line=0'>1</a>\u001b[0m MonCompte \u001b[39m=\u001b[39m CompteBank(\u001b[39m4623\u001b[39;49m, \u001b[39m\"\u001b[39;49m\u001b[39mMia Elo\u001b[39;49m\u001b[39m\"\u001b[39;49m, \u001b[39m100000\u001b[39;49m)\n\u001b[1;32m      <a href='vscode-notebook-cell://codespaces%2Bturbo-bassoon-jjjrrvvjq5r62qq7x/workspaces/essentiel-python-3069713/D%C3%A9fi_5_Classe.ipynb#W3sdnNjb2RlLXJlbW90ZQ%3D%3D?line=1'>2</a>\u001b[0m MonCompte \u001b[39m=\u001b[39m afficher()\n",
      "\u001b[0;31mTypeError\u001b[0m: CompteBank() takes no arguments"
     ]
    }
   ],
   "source": [
    "MonCompte = CompteBank(4623, \"Mia Elo\", 100000)\n",
    "MonCompte = afficher()"
   ]
  }
 ],
 "metadata": {
  "kernelspec": {
   "display_name": "Python 3",
   "language": "python",
   "name": "python3"
  },
  "language_info": {
   "codemirror_mode": {
    "name": "ipython",
    "version": 3
   },
   "file_extension": ".py",
   "mimetype": "text/x-python",
   "name": "python",
   "nbconvert_exporter": "python",
   "pygments_lexer": "ipython3",
   "version": "3.10.8"
  }
 },
 "nbformat": 4,
 "nbformat_minor": 2
}
