{
 "cells": [
  {
   "cell_type": "code",
   "execution_count": 1,
   "metadata": {},
   "outputs": [
    {
     "name": "stdout",
     "output_type": "stream",
     "text": [
      "Peugeot\n",
      "Peugeot\n"
     ]
    }
   ],
   "source": [
    "class Voiture :\n",
    "  marque = \"Peugeot\"\n",
    "\n",
    "voiture_01=Voiture()\n",
    "voiture_02=Voiture()\n",
    "\n",
    "print(voiture_01.marque)\n",
    "print(voiture_02.marque)\n"
   ]
  }
 ],
 "metadata": {
  "kernelspec": {
   "display_name": "Python 3",
   "language": "python",
   "name": "python3"
  },
  "language_info": {
   "codemirror_mode": {
    "name": "ipython",
    "version": 3
   },
   "file_extension": ".py",
   "mimetype": "text/x-python",
   "name": "python",
   "nbconvert_exporter": "python",
   "pygments_lexer": "ipython3",
   "version": "3.10.8"
  }
 },
 "nbformat": 4,
 "nbformat_minor": 2
}
