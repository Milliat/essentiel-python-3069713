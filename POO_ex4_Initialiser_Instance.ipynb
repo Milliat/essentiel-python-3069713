{
 "cells": [
  {
   "cell_type": "code",
   "execution_count": 8,
   "metadata": {},
   "outputs": [
    {
     "ename": "AttributeError",
     "evalue": "type object 'Voiture' has no attribute 'voitures_crees'",
     "output_type": "error",
     "traceback": [
      "\u001b[0;31m---------------------------------------------------------------------------\u001b[0m",
      "\u001b[0;31mAttributeError\u001b[0m                            Traceback (most recent call last)",
      "\u001b[1;32m/workspaces/essentiel-python-3069713/POO_ex4_Initialiser_Instance.ipynb Cellule 1\u001b[0m line \u001b[0;36m7\n\u001b[1;32m      <a href='vscode-notebook-cell://codespaces%2Bturbo-bassoon-jjjrrvvjq5r62qq7x/workspaces/essentiel-python-3069713/POO_ex4_Initialiser_Instance.ipynb#W0sdnNjb2RlLXJlbW90ZQ%3D%3D?line=3'>4</a>\u001b[0m         Voiture\u001b[39m.\u001b[39mvoitures_crees \u001b[39m+\u001b[39m\u001b[39m=\u001b[39m\u001b[39m1\u001b[39m\n\u001b[1;32m      <a href='vscode-notebook-cell://codespaces%2Bturbo-bassoon-jjjrrvvjq5r62qq7x/workspaces/essentiel-python-3069713/POO_ex4_Initialiser_Instance.ipynb#W0sdnNjb2RlLXJlbW90ZQ%3D%3D?line=4'>5</a>\u001b[0m         \u001b[39mself\u001b[39m\u001b[39m.\u001b[39mmarque \u001b[39m=\u001b[39m marque\n\u001b[0;32m----> <a href='vscode-notebook-cell://codespaces%2Bturbo-bassoon-jjjrrvvjq5r62qq7x/workspaces/essentiel-python-3069713/POO_ex4_Initialiser_Instance.ipynb#W0sdnNjb2RlLXJlbW90ZQ%3D%3D?line=6'>7</a>\u001b[0m voiture_01\u001b[39m=\u001b[39mVoiture(\u001b[39m\"\u001b[39;49m\u001b[39mPeugeot\u001b[39;49m\u001b[39m\"\u001b[39;49m)\n\u001b[1;32m      <a href='vscode-notebook-cell://codespaces%2Bturbo-bassoon-jjjrrvvjq5r62qq7x/workspaces/essentiel-python-3069713/POO_ex4_Initialiser_Instance.ipynb#W0sdnNjb2RlLXJlbW90ZQ%3D%3D?line=7'>8</a>\u001b[0m voiture_02\u001b[39m=\u001b[39mVoiture(\u001b[39m\"\u001b[39m\u001b[39mCitroën\u001b[39m\u001b[39m\"\u001b[39m)\n\u001b[1;32m     <a href='vscode-notebook-cell://codespaces%2Bturbo-bassoon-jjjrrvvjq5r62qq7x/workspaces/essentiel-python-3069713/POO_ex4_Initialiser_Instance.ipynb#W0sdnNjb2RlLXJlbW90ZQ%3D%3D?line=9'>10</a>\u001b[0m \u001b[39mprint\u001b[39m(Voiture\u001b[39m.\u001b[39mvoiture_crees)\n",
      "\u001b[1;32m/workspaces/essentiel-python-3069713/POO_ex4_Initialiser_Instance.ipynb Cellule 1\u001b[0m line \u001b[0;36m4\n\u001b[1;32m      <a href='vscode-notebook-cell://codespaces%2Bturbo-bassoon-jjjrrvvjq5r62qq7x/workspaces/essentiel-python-3069713/POO_ex4_Initialiser_Instance.ipynb#W0sdnNjb2RlLXJlbW90ZQ%3D%3D?line=2'>3</a>\u001b[0m \u001b[39mdef\u001b[39;00m \u001b[39m__init__\u001b[39m(\u001b[39mself\u001b[39m, marque):\n\u001b[0;32m----> <a href='vscode-notebook-cell://codespaces%2Bturbo-bassoon-jjjrrvvjq5r62qq7x/workspaces/essentiel-python-3069713/POO_ex4_Initialiser_Instance.ipynb#W0sdnNjb2RlLXJlbW90ZQ%3D%3D?line=3'>4</a>\u001b[0m     Voiture\u001b[39m.\u001b[39mvoitures_crees \u001b[39m+\u001b[39m\u001b[39m=\u001b[39m\u001b[39m1\u001b[39m\n\u001b[1;32m      <a href='vscode-notebook-cell://codespaces%2Bturbo-bassoon-jjjrrvvjq5r62qq7x/workspaces/essentiel-python-3069713/POO_ex4_Initialiser_Instance.ipynb#W0sdnNjb2RlLXJlbW90ZQ%3D%3D?line=4'>5</a>\u001b[0m     \u001b[39mself\u001b[39m\u001b[39m.\u001b[39mmarque \u001b[39m=\u001b[39m marque\n",
      "\u001b[0;31mAttributeError\u001b[0m: type object 'Voiture' has no attribute 'voitures_crees'"
     ]
    }
   ],
   "source": [
    "class Voiture :\n",
    "    voiture_crees = 0\n",
    "    def __init__(self, marque):\n",
    "        Voiture.voitures_crees +=1\n",
    "        self.marque = marque\n",
    "\n",
    "voiture_01=Voiture(\"Peugeot\")\n",
    "voiture_02=Voiture(\"Citroën\")\n",
    "\n",
    "print(Voiture.voiture_crees)\n",
    "#print(voiture_01.marque)\n",
    "#print(voiture_02.marque)"
   ]
  }
 ],
 "metadata": {
  "kernelspec": {
   "display_name": "Python 3",
   "language": "python",
   "name": "python3"
  },
  "language_info": {
   "codemirror_mode": {
    "name": "ipython",
    "version": 3
   },
   "file_extension": ".py",
   "mimetype": "text/x-python",
   "name": "python",
   "nbconvert_exporter": "python",
   "pygments_lexer": "ipython3",
   "version": "3.10.8"
  }
 },
 "nbformat": 4,
 "nbformat_minor": 2
}
