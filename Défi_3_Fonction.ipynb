{
 "cells": [
  {
   "cell_type": "code",
   "execution_count": 1,
   "metadata": {},
   "outputs": [
    {
     "data": {
      "text/plain": [
       "3"
      ]
     },
     "execution_count": 1,
     "metadata": {},
     "output_type": "execute_result"
    }
   ],
   "source": [
    "Heure = 43\n",
    "if Heure>40 : Heure_sup = Heure -40\n",
    "Heure_sup"
   ]
  },
  {
   "cell_type": "code",
   "execution_count": 4,
   "metadata": {},
   "outputs": [
    {
     "data": {
      "text/plain": [
       "104.5"
      ]
     },
     "execution_count": 4,
     "metadata": {},
     "output_type": "execute_result"
    }
   ],
   "source": [
    "Salaire_base=100\n",
    "Salaire=Salaire_base+1.5*Heure_sup\n",
    "Salaire"
   ]
  },
  {
   "cell_type": "code",
   "execution_count": 19,
   "metadata": {},
   "outputs": [
    {
     "name": "stdout",
     "output_type": "stream",
     "text": [
      "5500.0\n"
     ]
    }
   ],
   "source": [
    "def Salaire_2(Heure_2,Tarif_H):\n",
    "  if Heure_2>40:\n",
    "    return Tarif_H*40+(Heure_2-40)*1.5*Tarif_H\n",
    "  else:\n",
    "    return Tarif_H*Heure_2\n",
    "Heure_2=50\n",
    "Tarif_H=100\n",
    "Paie=Salaire_2(Heure_2,Tarif_H)\n",
    "print(Paie)"
   ]
  },
  {
   "cell_type": "code",
   "execution_count": 21,
   "metadata": {},
   "outputs": [
    {
     "name": "stdout",
     "output_type": "stream",
     "text": [
      "Total:5500.00 €\n"
     ]
    }
   ],
   "source": [
    "print(f\"Total:{Paie:.2f}\",\"€\")"
   ]
  }
 ],
 "metadata": {
  "kernelspec": {
   "display_name": "Python 3",
   "language": "python",
   "name": "python3"
  },
  "language_info": {
   "codemirror_mode": {
    "name": "ipython",
    "version": 3
   },
   "file_extension": ".py",
   "mimetype": "text/x-python",
   "name": "python",
   "nbconvert_exporter": "python",
   "pygments_lexer": "ipython3",
   "version": "3.10.8"
  }
 },
 "nbformat": 4,
 "nbformat_minor": 2
}
